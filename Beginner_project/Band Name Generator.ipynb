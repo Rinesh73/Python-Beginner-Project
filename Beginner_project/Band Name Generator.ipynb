{
 "cells": [
  {
   "cell_type": "markdown",
   "id": "bcfef75e",
   "metadata": {},
   "source": [
    "# Band Name Generator Program\n",
    "\n",
    "- This is a basic python program to create band name based on the user input. \n",
    "- It helps beginners to understand how print function, string concatenation, escape character and input function works in python"
   ]
  },
  {
   "cell_type": "code",
   "execution_count": 4,
   "id": "d63cf937",
   "metadata": {},
   "outputs": [
    {
     "name": "stdout",
     "output_type": "stream",
     "text": [
      "Welcome to the Band Name Generator.\n",
      "\n",
      "Which city did you grow-up in?\n",
      "Kerala\n",
      "What is the name of your pet?\n",
      "Blaster\n"
     ]
    }
   ],
   "source": [
    "print(\"Welcome to the Band Name Generator.\\n\")\n",
    "\n",
    "city= input(\"Which city did you grow-up in?\\n\")\n",
    "pet=input(\"What is the name of your pet?\\n\")"
   ]
  },
  {
   "cell_type": "code",
   "execution_count": 5,
   "id": "e8257374",
   "metadata": {},
   "outputs": [
    {
     "name": "stdout",
     "output_type": "stream",
     "text": [
      "Your Band name could be Kerala Blaster\n"
     ]
    }
   ],
   "source": [
    "print('Your Band name could be '+city+' '+pet)"
   ]
  },
  {
   "cell_type": "code",
   "execution_count": null,
   "id": "abe30022",
   "metadata": {},
   "outputs": [],
   "source": []
  }
 ],
 "metadata": {
  "kernelspec": {
   "display_name": "Python 3 (ipykernel)",
   "language": "python",
   "name": "python3"
  },
  "language_info": {
   "codemirror_mode": {
    "name": "ipython",
    "version": 3
   },
   "file_extension": ".py",
   "mimetype": "text/x-python",
   "name": "python",
   "nbconvert_exporter": "python",
   "pygments_lexer": "ipython3",
   "version": "3.9.13"
  }
 },
 "nbformat": 4,
 "nbformat_minor": 5
}
