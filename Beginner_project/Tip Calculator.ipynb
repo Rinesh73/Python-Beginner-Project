{
 "cells": [
  {
   "cell_type": "markdown",
   "id": "75764eaf",
   "metadata": {},
   "source": [
    "# Tip Calculator\n",
    "\n",
    "- This program calculates the total amount to be paid by each person in a restaurant. \n",
    "- Total amount is calculated based on total bill and tip percentage that was choosen."
   ]
  },
  {
   "cell_type": "code",
   "execution_count": 9,
   "id": "3f98d560",
   "metadata": {},
   "outputs": [
    {
     "name": "stdout",
     "output_type": "stream",
     "text": [
      "Welcome to the tip Calculator!\n",
      "What was the total bill in Rupees? Rs.1000\n",
      "How much tip would you like to give? 10, 12 or 15?10\n",
      "How many people to split the bill?10\n",
      "Each Person should pay: Rs.110.00\n"
     ]
    }
   ],
   "source": [
    "print(\"Welcome to the tip Calculator!\")\n",
    "bill=float(input(\"What was the total bill in Rupees? Rs.\"))\n",
    "tip=int(input(\"How much tip would you like to give? 10, 12 or 15?\"))\n",
    "people=int(input(\"How many people to split the bill?\"))\n",
    "bill_with_tip=bill+(bill*(tip/100))\n",
    "bill_per_person=round(bill_with_tip/people,2)\n",
    "final_amount=\"{:.2f}\".format(bill_per_person)\n",
    "print(f\"Each Person should pay: Rs.{final_amount}\")"
   ]
  },
  {
   "cell_type": "code",
   "execution_count": null,
   "id": "2db47021",
   "metadata": {},
   "outputs": [],
   "source": []
  }
 ],
 "metadata": {
  "kernelspec": {
   "display_name": "Python 3 (ipykernel)",
   "language": "python",
   "name": "python3"
  },
  "language_info": {
   "codemirror_mode": {
    "name": "ipython",
    "version": 3
   },
   "file_extension": ".py",
   "mimetype": "text/x-python",
   "name": "python",
   "nbconvert_exporter": "python",
   "pygments_lexer": "ipython3",
   "version": "3.9.13"
  }
 },
 "nbformat": 4,
 "nbformat_minor": 5
}
