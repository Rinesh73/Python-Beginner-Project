{
 "cells": [
  {
   "cell_type": "markdown",
   "metadata": {},
   "source": [
    "### # Program to calculate area of shapes. This program is capable of calculating the area of a square, rectangle, triangle and a circle based on the user input"
   ]
  },
  {
   "cell_type": "code",
   "execution_count": 1,
   "metadata": {},
   "outputs": [
    {
     "name": "stdout",
     "output_type": "stream",
     "text": [
      "Which shape would you like to calculate the area for? Please enter the option number- 1. Square 2. Rectangle 3. Triangle 4. Circle. Enter Option: _ 1\n",
      "Enter the size of Square:25\n",
      "The area of the square is 625\n"
     ]
    }
   ],
   "source": [
    "x=int(input(\"Which shape would you like to calculate the area for? Please enter the option number- 1. Square 2. Rectangle 3. Triangle 4. Circle. Enter Option: _ \"))\n",
    "\n",
    "if x==1:\n",
    "    while True:\n",
    "        try:\n",
    "            a=input(\"Enter the size of Square:\")\n",
    "            a=int(a)\n",
    "            break\n",
    "        except ValueError:\n",
    "            print(\"Invalid input, please enter a number: _\")\n",
    "    Area=a**2\n",
    "    print(\"The area of the square is\",Area)\n",
    "elif x==2:\n",
    "    while True:\n",
    "        try:\n",
    "            a=input(\"Enter the Length of Rectangle:\")\n",
    "            a=int(a)\n",
    "            break\n",
    "        except ValueError:\n",
    "            print(\"Invalid input, please enter a number: _\")\n",
    "    while True:\n",
    "        try:\n",
    "            b=int(input(\"Enter the Bredth of Rectangle:\"))\n",
    "            b=int(b)\n",
    "            break\n",
    "        except ValueError:\n",
    "            print(\"Invalid input, please enter a number: _\")\n",
    "    Area=a*b\n",
    "    print(\"The area of the Rectangle is\",Area)\n",
    "elif x==3:\n",
    "    while True:\n",
    "        try:\n",
    "            a=input(\"Enter the base of Triangle:\")\n",
    "            a=int(a)\n",
    "            break\n",
    "        except ValueError:\n",
    "            print(\"Invalid input, please enter a number: _\")\n",
    "    while True:\n",
    "        try:\n",
    "            b=input(\"Enter the height of Triangle:\")\n",
    "            b=int(b)\n",
    "            break\n",
    "        except ValueError:\n",
    "            print(\"Invalid input, please enter a number: _\")\n",
    "    Area=(a*b)/2\n",
    "    print(\"The area of the Triangle is\",Area)\n",
    "        \n",
    "elif x==4:\n",
    "    while True:\n",
    "        try:\n",
    "            a=input(\"Enter the radius of Circle:\")\n",
    "            a=int(a)\n",
    "            break\n",
    "        except ValueError:\n",
    "            print(\"Invalid input, please enter a number: _\")\n",
    "    Area=3.14*a*a\n",
    "    print(\"The area of the Circle is\",Area)\n",
    "else:\n",
    "    print(\"Invalid input, please enter a valid number from 1 to 4: \")"
   ]
  },
  {
   "cell_type": "code",
   "execution_count": null,
   "metadata": {},
   "outputs": [],
   "source": []
  }
 ],
 "metadata": {
  "kernelspec": {
   "display_name": "Python 3",
   "language": "python",
   "name": "python3"
  },
  "language_info": {
   "codemirror_mode": {
    "name": "ipython",
    "version": 3
   },
   "file_extension": ".py",
   "mimetype": "text/x-python",
   "name": "python",
   "nbconvert_exporter": "python",
   "pygments_lexer": "ipython3",
   "version": "3.7.3"
  }
 },
 "nbformat": 4,
 "nbformat_minor": 2
}
