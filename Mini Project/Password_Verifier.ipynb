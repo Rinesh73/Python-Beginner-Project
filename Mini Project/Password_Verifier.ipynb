{
 "cells": [
  {
   "cell_type": "markdown",
   "metadata": {},
   "source": [
    "## Password Verification program\n",
    "\n",
    "#### It will take username and password as input from user and verifies whether the user have entered valid password or not.\n",
    "\n",
    "#### # Rule to be followed:\n",
    "##### 1) Minimum 8 characters\n",
    "##### 2) Should be a Alphanumeric(aleast one alphabet and one number)\n",
    "##### 3) Should contain minimum 1 special Character -[!@#$%^&*]\n",
    "##### 4) password should not be same as the username\n",
    "\n",
    "#### If password satisfies all the rules, program validates the password else it will print invalid password along with the reason for not accepting it. \n"
   ]
  },
  {
   "cell_type": "code",
   "execution_count": 23,
   "metadata": {},
   "outputs": [
    {
     "name": "stdout",
     "output_type": "stream",
     "text": [
      "username : ABC\n",
      "password : @abc1234\n",
      "Password is valid\n"
     ]
    }
   ],
   "source": [
    "username=input(\"username : \").lower()\n",
    "password=input(\"password : \").lower()\n",
    "symbol=[\"!\",\"@\",\"#\",\"$\",\"%\",\"^\",\"&\",\"*\"]\n",
    "count=0\n",
    "count1=0\n",
    "count2=0\n",
    "count3=0\n",
    "count4=len(username)\n",
    "list1=list(password)\n",
    "for i in list1:\n",
    "    count=count+1\n",
    "    a=ord(i)\n",
    "    if(a in range(97,123)):\n",
    "        count1=count1+1\n",
    "    elif(i in symbol):\n",
    "        count2=count2+1\n",
    "    elif(a in range(48,58)):\n",
    "        count3=count3+1\n",
    "if(count<8 or count1<1 or count2<1 or count3<1 or password == username or count4<=0):\n",
    "    print(\"Invalid Password or Username\")\n",
    "    print(\"\\t\")\n",
    "    print(\"*******\")\n",
    "    if(count4<=0):\n",
    "        print(\"Please enter a username\")\n",
    "    if(count<8):\n",
    "        print(\"Password should contain minimum 8 characters\")\n",
    "    if(count1<1 or count3<1):\n",
    "        print(\"Password should be a Alphanumeric(aleast one alphabet and one number)\")\n",
    "    if(count2<1):\n",
    "        print(\"Password should contain minimum 1 special Character-[!@#$%^&*]\")\n",
    "    if(password == username):\n",
    "        print(\"Password should not be same as the username\")\n",
    "else:\n",
    "    print(\"Password is valid\")\n",
    "    "
   ]
  },
  {
   "cell_type": "code",
   "execution_count": null,
   "metadata": {},
   "outputs": [],
   "source": []
  },
  {
   "cell_type": "code",
   "execution_count": null,
   "metadata": {},
   "outputs": [],
   "source": []
  }
 ],
 "metadata": {
  "kernelspec": {
   "display_name": "Python 3",
   "language": "python",
   "name": "python3"
  },
  "language_info": {
   "codemirror_mode": {
    "name": "ipython",
    "version": 3
   },
   "file_extension": ".py",
   "mimetype": "text/x-python",
   "name": "python",
   "nbconvert_exporter": "python",
   "pygments_lexer": "ipython3",
   "version": "3.7.3"
  }
 },
 "nbformat": 4,
 "nbformat_minor": 2
}
