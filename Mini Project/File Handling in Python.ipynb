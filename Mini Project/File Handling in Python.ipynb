{
 "cells": [
  {
   "cell_type": "markdown",
   "metadata": {
    "colab_type": "text",
    "id": "XZlcjGdzhxxR"
   },
   "source": [
    "---\n",
    "---\n",
    "\n",
    "<center><h1>📍 📍 FILE HANDLING 📍 📍 </h1></center>\n",
    "\n",
    "\n",
    "#### `TEXT FILES`\n",
    "\n",
    "---\n",
    "\n",
    "* ***.txt***\n",
    "\n",
    "\n",
    "**FILE ACCESS MODES**\n",
    "\n",
    " * ***`Read Only (‘r’)`*** : It opens the text file for reading. If the file does not exists, raises I/O error.\n",
    " * ***`Read and Write (‘r+’)`*** : It opens the file for reading and writing. Raises I/O error if the file does not exists.\n",
    " * ***`Write Only (‘w’)`*** : It opens the file for writing. For existing file, the data over-written. Creates the file if the file does not exists.\n",
    " * ***`Write and Read (‘w+’)`*** : It opens the file for reading and writing. For existing file, data is truncated and over-written.\n",
    " * ***`Append Only (‘a’)`*** : It opens the file for writing. The file is created if it does not exist. The data being written will be inserted at the end, after the existing data.\n",
    " * ***`Append and Read (‘a+’)`*** : It opens the file for reading and writing. The file is created if it does not exist. The data being written will be inserted at the end, after the existing data.\n",
    "\n",
    "---\n",
    "\n",
    "---"
   ]
  },
  {
   "cell_type": "markdown",
   "metadata": {
    "colab_type": "text",
    "id": "thg1vbcQhxxb"
   },
   "source": [
    "#### `READING TEXT FILES`\n",
    "\n",
    "---"
   ]
  },
  {
   "cell_type": "code",
   "execution_count": 28,
   "metadata": {},
   "outputs": [],
   "source": [
    "#text_file = open(\"C:\\\\Users\\\\hp1\\\\Downloads\\\\dataset\\\\file_1.txt\", \"r\")"
   ]
  },
  {
   "cell_type": "code",
   "execution_count": 1,
   "metadata": {
    "colab": {},
    "colab_type": "code",
    "id": "v-RDWQLShxxj"
   },
   "outputs": [],
   "source": [
    "# Open the file in read only mode.\n",
    "\n",
    "text_file = open(\"dataset/file_1.txt\", \"r\")"
   ]
  },
  {
   "cell_type": "code",
   "execution_count": 29,
   "metadata": {
    "colab": {},
    "colab_type": "code",
    "id": "6AGE86_hhxx5",
    "outputId": "deb94501-20c4-4c2f-b46d-7704d27c83e1"
   },
   "outputs": [
    {
     "data": {
      "text/plain": [
       "'This is line number 1.\\nThis is line number 2.\\nThis is line number 3.\\nThis is line number 4.\\nThis is line number 5.\\nThis is line number 6.\\nThis is line number 7.\\nThis is line number 8.\\nThis is line number 9.\\nThis is line number 10.\\nThis is line number 11.\\nThis is line number 12.\\nThis is line number 13.\\nThis is line number 14.\\nThis is line number 15.\\nThis is line number 16.\\nThis is line number 17.\\nThis is line number 18.\\nThis is line number 19.\\nThis is line number 20.\\nThis is line number 21.\\nThis is line number 22.\\nThis is line number 23.\\nThis is line number 24.\\nThis is line number 25.\\nThis is line number 26.\\nThis is line number 27.\\nThis is line number 28.\\nThis is line number 29.\\nThis is line number 30.\\n'"
      ]
     },
     "execution_count": 29,
     "metadata": {},
     "output_type": "execute_result"
    }
   ],
   "source": [
    "# read the file and store the text in a variable\n",
    "complete_text = text_file.read()\n",
    "complete_text"
   ]
  },
  {
   "cell_type": "markdown",
   "metadata": {
    "colab_type": "text",
    "id": "fHI9KsiDhxyM"
   },
   "source": [
    "***Read the file again***\n",
    "\n",
    "---"
   ]
  },
  {
   "cell_type": "code",
   "execution_count": 30,
   "metadata": {
    "colab": {},
    "colab_type": "code",
    "id": "wbFhUC5yhxyS",
    "outputId": "31a45576-c478-4f52-cb6d-772c94bc96db"
   },
   "outputs": [
    {
     "data": {
      "text/plain": [
       "''"
      ]
     },
     "execution_count": 30,
     "metadata": {},
     "output_type": "execute_result"
    }
   ],
   "source": [
    "# read the file again\n",
    "complete_text = text_file.read()\n",
    "\n",
    "complete_text"
   ]
  },
  {
   "cell_type": "code",
   "execution_count": 31,
   "metadata": {
    "colab": {},
    "colab_type": "code",
    "id": "Ed_NBdXEhxyi"
   },
   "outputs": [],
   "source": [
    "'''\n",
    "As you can see we got an empty string.\n",
    "This is because the file is already opened \n",
    "and the file pointer is at the end of the file \n",
    "so one way is to close the file first to read it again.\n",
    "'''\n",
    "\n",
    "text_file.close()"
   ]
  },
  {
   "cell_type": "code",
   "execution_count": 5,
   "metadata": {
    "colab": {},
    "colab_type": "code",
    "id": "5l0294PKhxyw"
   },
   "outputs": [],
   "source": [
    "complete_text = open(\"dataset/file_1.txt\", \"r\")"
   ]
  },
  {
   "cell_type": "code",
   "execution_count": 6,
   "metadata": {
    "colab": {},
    "colab_type": "code",
    "id": "OZ_FbxMwhxy8",
    "outputId": "b8984e82-07a1-4dfb-e551-2d4203c6137e"
   },
   "outputs": [
    {
     "data": {
      "text/plain": [
       "'This is line number 1.\\nThis is line number 2.\\nThis is line number 3.\\nThis is line number 4.\\nThis is line number 5.\\nThis is line number 6.\\nThis is line number 7.\\nThis is line number 8.\\nThis is line number 9.\\nThis is line number 10.\\nThis is line number 11.\\nThis is line number 12.\\nThis is line number 13.\\nThis is line number 14.\\nThis is line number 15.\\nThis is line number 16.\\nThis is line number 17.\\nThis is line number 18.\\nThis is line number 19.\\nThis is line number 20.\\nThis is line number 21.\\nThis is line number 22.\\nThis is line number 23.\\nThis is line number 24.\\nThis is line number 25.\\nThis is line number 26.\\nThis is line number 27.\\nThis is line number 28.\\nThis is line number 29.\\nThis is line number 30.\\n'"
      ]
     },
     "execution_count": 6,
     "metadata": {},
     "output_type": "execute_result"
    }
   ],
   "source": [
    "complete_text.read()"
   ]
  },
  {
   "cell_type": "markdown",
   "metadata": {
    "colab_type": "text",
    "id": "gZJrZhPShxzI"
   },
   "source": [
    "***Another way to read the file again is by moving the pointer to the starting point again using the `seek` function***\n",
    "\n",
    "---\n"
   ]
  },
  {
   "cell_type": "code",
   "execution_count": 7,
   "metadata": {
    "colab": {},
    "colab_type": "code",
    "id": "gQI7yWSehxzN",
    "outputId": "71bbeeeb-dc03-462f-a8d3-9ec0b4d28a73"
   },
   "outputs": [
    {
     "data": {
      "text/plain": [
       "0"
      ]
     },
     "execution_count": 7,
     "metadata": {},
     "output_type": "execute_result"
    }
   ],
   "source": [
    "complete_text.seek(0)"
   ]
  },
  {
   "cell_type": "code",
   "execution_count": 8,
   "metadata": {
    "colab": {},
    "colab_type": "code",
    "id": "BUMzpDFuhxzc",
    "outputId": "55119180-93a3-43b5-a00c-ba77c027919c"
   },
   "outputs": [
    {
     "data": {
      "text/plain": [
       "'This is line number 1.\\nThis is line number 2.\\nThis is line number 3.\\nThis is line number 4.\\nThis is line number 5.\\nThis is line number 6.\\nThis is line number 7.\\nThis is line number 8.\\nThis is line number 9.\\nThis is line number 10.\\nThis is line number 11.\\nThis is line number 12.\\nThis is line number 13.\\nThis is line number 14.\\nThis is line number 15.\\nThis is line number 16.\\nThis is line number 17.\\nThis is line number 18.\\nThis is line number 19.\\nThis is line number 20.\\nThis is line number 21.\\nThis is line number 22.\\nThis is line number 23.\\nThis is line number 24.\\nThis is line number 25.\\nThis is line number 26.\\nThis is line number 27.\\nThis is line number 28.\\nThis is line number 29.\\nThis is line number 30.\\n'"
      ]
     },
     "execution_count": 8,
     "metadata": {},
     "output_type": "execute_result"
    }
   ],
   "source": [
    "complete_text.read()"
   ]
  },
  {
   "cell_type": "markdown",
   "metadata": {
    "colab_type": "text",
    "id": "j70sULbFhxzn"
   },
   "source": [
    "***Using the `seek` function, we can move to any point in the file and read the file.***\n",
    "\n",
    "---\n"
   ]
  },
  {
   "cell_type": "code",
   "execution_count": 9,
   "metadata": {
    "colab": {},
    "colab_type": "code",
    "id": "UPaghT12hxzr",
    "outputId": "baf9fb05-71c9-4ffd-f789-7755175e4330"
   },
   "outputs": [
    {
     "data": {
      "text/plain": [
       "300"
      ]
     },
     "execution_count": 9,
     "metadata": {},
     "output_type": "execute_result"
    }
   ],
   "source": [
    "# read from 300th character in the file\n",
    "complete_text.seek(300)"
   ]
  },
  {
   "cell_type": "code",
   "execution_count": 10,
   "metadata": {
    "colab": {},
    "colab_type": "code",
    "id": "C0kOqSANhxz6",
    "outputId": "7f33e47b-c170-463c-a235-476eac0a5ea0"
   },
   "outputs": [
    {
     "data": {
      "text/plain": [
       "'3.\\nThis is line number 14.\\nThis is line number 15.\\nThis is line number 16.\\nThis is line number 17.\\nThis is line number 18.\\nThis is line number 19.\\nThis is line number 20.\\nThis is line number 21.\\nThis is line number 22.\\nThis is line number 23.\\nThis is line number 24.\\nThis is line number 25.\\nThis is line number 26.\\nThis is line number 27.\\nThis is line number 28.\\nThis is line number 29.\\nThis is line number 30.\\n'"
      ]
     },
     "execution_count": 10,
     "metadata": {},
     "output_type": "execute_result"
    }
   ],
   "source": [
    "# read the file\n",
    "complete_text.read()"
   ]
  },
  {
   "cell_type": "code",
   "execution_count": 11,
   "metadata": {
    "colab": {},
    "colab_type": "code",
    "id": "FwgOwcW1hx0G"
   },
   "outputs": [],
   "source": [
    "# close the file\n",
    "complete_text.close()"
   ]
  },
  {
   "cell_type": "markdown",
   "metadata": {
    "colab_type": "text",
    "id": "VkZ_OMzWhx0T"
   },
   "source": [
    "***Read the file line by line***\n",
    "\n",
    "---"
   ]
  },
  {
   "cell_type": "code",
   "execution_count": 12,
   "metadata": {
    "colab": {},
    "colab_type": "code",
    "id": "53iUSxefhx0U",
    "outputId": "8115acf9-3100-4c02-f370-370ff086e006"
   },
   "outputs": [
    {
     "name": "stdout",
     "output_type": "stream",
     "text": [
      "No of lines in file is  30\n"
     ]
    }
   ],
   "source": [
    "# read the file again store each line in a list\n",
    "text_file = open(\"dataset/file_1.txt\", \"r\")\n",
    "\n",
    "lines = text_file.readlines()\n",
    "\n",
    "# no of lines\n",
    "print('No of lines in file is ',format(len(lines)))"
   ]
  },
  {
   "cell_type": "code",
   "execution_count": 14,
   "metadata": {
    "colab": {},
    "colab_type": "code",
    "id": "TXiZwNbzhx0e",
    "outputId": "4b4c5748-df7c-459b-d44a-6336037999fe"
   },
   "outputs": [
    {
     "name": "stdout",
     "output_type": "stream",
     "text": [
      "This is line number 1.\n",
      "\n",
      "This is line number 2.\n",
      "\n",
      "This is line number 3.\n",
      "\n",
      "This is line number 4.\n",
      "\n",
      "This is line number 5.\n",
      "\n",
      "This is line number 6.\n",
      "\n",
      "This is line number 7.\n",
      "\n",
      "This is line number 8.\n",
      "\n",
      "This is line number 9.\n",
      "\n",
      "This is line number 10.\n",
      "\n",
      "This is line number 11.\n",
      "\n",
      "This is line number 12.\n",
      "\n",
      "This is line number 13.\n",
      "\n",
      "This is line number 14.\n",
      "\n",
      "This is line number 15.\n",
      "\n",
      "This is line number 16.\n",
      "\n",
      "This is line number 17.\n",
      "\n",
      "This is line number 18.\n",
      "\n",
      "This is line number 19.\n",
      "\n",
      "This is line number 20.\n",
      "\n",
      "This is line number 21.\n",
      "\n",
      "This is line number 22.\n",
      "\n",
      "This is line number 23.\n",
      "\n",
      "This is line number 24.\n",
      "\n",
      "This is line number 25.\n",
      "\n",
      "This is line number 26.\n",
      "\n",
      "This is line number 27.\n",
      "\n",
      "This is line number 28.\n",
      "\n",
      "This is line number 29.\n",
      "\n",
      "This is line number 30.\n",
      "\n"
     ]
    }
   ],
   "source": [
    "# print each line text\n",
    "for line in lines :\n",
    "    print(line)\n",
    "\n",
    "# close the file\n",
    "text_file.close()"
   ]
  },
  {
   "cell_type": "markdown",
   "metadata": {
    "colab_type": "text",
    "id": "eJfAiMhVhx0q"
   },
   "source": [
    "---\n",
    "\n",
    "***Another way to read text files***\n",
    "\n",
    "---"
   ]
  },
  {
   "cell_type": "code",
   "execution_count": 15,
   "metadata": {
    "colab": {},
    "colab_type": "code",
    "id": "FtecXDR0hx0t"
   },
   "outputs": [],
   "source": [
    "with open('dataset/file_1.txt','r') as f:\n",
    "    complete_text =  f.read()"
   ]
  },
  {
   "cell_type": "code",
   "execution_count": 16,
   "metadata": {
    "colab": {},
    "colab_type": "code",
    "id": "XjnIjU2Khx03",
    "outputId": "1b132a60-fc84-4005-aa77-8004ea50c8c1"
   },
   "outputs": [
    {
     "data": {
      "text/plain": [
       "'This is line number 1.\\nThis is line number 2.\\nThis is line number 3.\\nThis is line number 4.\\nThis is line number 5.\\nThis is line number 6.\\nThis is line number 7.\\nThis is line number 8.\\nThis is line number 9.\\nThis is line number 10.\\nThis is line number 11.\\nThis is line number 12.\\nThis is line number 13.\\nThis is line number 14.\\nThis is line number 15.\\nThis is line number 16.\\nThis is line number 17.\\nThis is line number 18.\\nThis is line number 19.\\nThis is line number 20.\\nThis is line number 21.\\nThis is line number 22.\\nThis is line number 23.\\nThis is line number 24.\\nThis is line number 25.\\nThis is line number 26.\\nThis is line number 27.\\nThis is line number 28.\\nThis is line number 29.\\nThis is line number 30.\\n'"
      ]
     },
     "execution_count": 16,
     "metadata": {},
     "output_type": "execute_result"
    }
   ],
   "source": [
    "complete_text"
   ]
  },
  {
   "cell_type": "markdown",
   "metadata": {
    "colab_type": "text",
    "id": "8OITSz2nhx1A"
   },
   "source": [
    "***Using `with` statement, python will automatically closes the file after reading it.***\n",
    "\n",
    "---"
   ]
  },
  {
   "cell_type": "markdown",
   "metadata": {
    "colab_type": "text",
    "id": "Jc8qx8aChx1D"
   },
   "source": [
    "#### `WRITING TEXT FILES`\n",
    "\n",
    "\n",
    "---"
   ]
  },
  {
   "cell_type": "code",
   "execution_count": 17,
   "metadata": {
    "colab": {},
    "colab_type": "code",
    "id": "MvTcwOMKhx1F",
    "outputId": "72a9048f-0959-4b47-e96c-accf8c08188b"
   },
   "outputs": [
    {
     "data": {
      "text/plain": [
       "24"
      ]
     },
     "execution_count": 17,
     "metadata": {},
     "output_type": "execute_result"
    }
   ],
   "source": [
    "# let's open a file in write only mode\n",
    "my_file = open('dataset/new_file.txt','w')\n",
    "\n",
    "# write function will return the length of text written in the file.\n",
    "my_file.write('Data Science is Awesome!')"
   ]
  },
  {
   "cell_type": "markdown",
   "metadata": {
    "colab_type": "text",
    "id": "s6RK7oF9hx1P"
   },
   "source": [
    "***`write` function will return the number of characters written in the file.***\n",
    "\n",
    "___"
   ]
  },
  {
   "cell_type": "code",
   "execution_count": 18,
   "metadata": {
    "colab": {},
    "colab_type": "code",
    "id": "FFQyZ40-hx1R",
    "outputId": "e12f65d9-245f-405f-fc4e-388311c008fe"
   },
   "outputs": [
    {
     "data": {
      "text/plain": [
       "'Data Science is Awesome!'"
      ]
     },
     "execution_count": 18,
     "metadata": {},
     "output_type": "execute_result"
    }
   ],
   "source": [
    "# open the file write and read mode\n",
    "my_file = open('dataset/new_file.txt','w+')\n",
    "#  read the file \n",
    "my_file.read()"
   ]
  },
  {
   "cell_type": "code",
   "execution_count": 20,
   "metadata": {
    "colab": {},
    "colab_type": "code",
    "id": "NqUWMsw6hx1a"
   },
   "outputs": [],
   "source": [
    "# close the file\n",
    "my_file.close()"
   ]
  },
  {
   "cell_type": "code",
   "execution_count": 21,
   "metadata": {
    "colab": {},
    "colab_type": "code",
    "id": "-MtvfJO4hx1l"
   },
   "outputs": [],
   "source": [
    "# Now, add some lines to the file again\n",
    "\n",
    "my_file = open('dataset/new_file.txt','w+')"
   ]
  },
  {
   "cell_type": "code",
   "execution_count": 22,
   "metadata": {
    "colab": {},
    "colab_type": "code",
    "id": "51gSiFNDhx1s"
   },
   "outputs": [],
   "source": [
    "# create a list of strings\n",
    "lines = ['Line 1','Line 2','Line 3','Line 4']\n",
    "my_file.writelines(lines)"
   ]
  },
  {
   "cell_type": "code",
   "execution_count": 23,
   "metadata": {
    "colab": {},
    "colab_type": "code",
    "id": "3ZwdGrArhx10",
    "outputId": "283cab6c-93ac-4edc-bb62-6dadcac94696"
   },
   "outputs": [
    {
     "name": "stdout",
     "output_type": "stream",
     "text": [
      "Line 1Line 2Line 3Line 4\n"
     ]
    }
   ],
   "source": [
    "# take the pointer to the initial position\n",
    "my_file.seek(0)\n",
    "# read the data\n",
    "print(my_file.read())\n",
    "my_file.close()"
   ]
  },
  {
   "cell_type": "markdown",
   "metadata": {
    "colab_type": "text",
    "id": "t8_vbKFOhx19"
   },
   "source": [
    "***The content is overwritten when we tried to write again on the same file***\n",
    "\n",
    "---\n",
    "\n",
    "####  `APPEND TEXT IN FILE`"
   ]
  },
  {
   "cell_type": "code",
   "execution_count": 24,
   "metadata": {
    "colab": {},
    "colab_type": "code",
    "id": "aOlqrSXdhx2A"
   },
   "outputs": [
    {
     "data": {
      "text/plain": [
       "'Line 1Line 2Line 3Line 4Welcome to the python course'"
      ]
     },
     "execution_count": 24,
     "metadata": {},
     "output_type": "execute_result"
    }
   ],
   "source": [
    "# open the file in the append and read mode.\n",
    "my_file = open('dataset/new_file.txt','a+')\n",
    "\n",
    "my_file.write('Welcome to the python course')\n",
    "#  take the pointer to the initial position of the file\n",
    "my_file.seek(0)\n",
    "\n",
    "# read the file\n",
    "my_file.read()"
   ]
  },
  {
   "cell_type": "code",
   "execution_count": 32,
   "metadata": {},
   "outputs": [],
   "source": [
    "my_file.close()"
   ]
  },
  {
   "cell_type": "code",
   "execution_count": null,
   "metadata": {},
   "outputs": [],
   "source": []
  }
 ],
 "metadata": {
  "colab": {
   "name": "File Handling in Python.ipynb",
   "provenance": []
  },
  "kernelspec": {
   "display_name": "Python 3",
   "language": "python",
   "name": "python3"
  },
  "language_info": {
   "codemirror_mode": {
    "name": "ipython",
    "version": 3
   },
   "file_extension": ".py",
   "mimetype": "text/x-python",
   "name": "python",
   "nbconvert_exporter": "python",
   "pygments_lexer": "ipython3",
   "version": "3.7.3"
  }
 },
 "nbformat": 4,
 "nbformat_minor": 1
}
