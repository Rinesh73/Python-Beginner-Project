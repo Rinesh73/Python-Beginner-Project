{
 "cells": [
  {
   "cell_type": "markdown",
   "id": "bc5b707e",
   "metadata": {},
   "source": [
    "# Email Slicer Program\n",
    "\n",
    "- An Email slicer is a very useful program for separating the username and domain name of an email address."
   ]
  },
  {
   "cell_type": "code",
   "execution_count": 1,
   "id": "6e8bf60c",
   "metadata": {},
   "outputs": [
    {
     "name": "stdout",
     "output_type": "stream",
     "text": [
      "Enter Your Email: abc@yahoo.in\n",
      "Your user name is 'abc' and your domain is 'yahoo.in'\n"
     ]
    }
   ],
   "source": [
    "email = input(\"Enter Your Email: \").strip()\n",
    "username = email[:email.index(\"@\")]\n",
    "domain_name = email[email.index(\"@\")+1:]\n",
    "format_ = (f\"Your user name is '{username}' and your domain is '{domain_name}'\")\n",
    "print(format_)"
   ]
  },
  {
   "cell_type": "code",
   "execution_count": null,
   "id": "1778d765",
   "metadata": {},
   "outputs": [],
   "source": []
  }
 ],
 "metadata": {
  "kernelspec": {
   "display_name": "Python 3 (ipykernel)",
   "language": "python",
   "name": "python3"
  },
  "language_info": {
   "codemirror_mode": {
    "name": "ipython",
    "version": 3
   },
   "file_extension": ".py",
   "mimetype": "text/x-python",
   "name": "python",
   "nbconvert_exporter": "python",
   "pygments_lexer": "ipython3",
   "version": "3.9.13"
  }
 },
 "nbformat": 4,
 "nbformat_minor": 5
}
