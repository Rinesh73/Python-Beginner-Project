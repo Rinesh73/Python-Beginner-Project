{
 "cells": [
  {
   "cell_type": "markdown",
   "metadata": {},
   "source": [
    "# 21 Match Sticks Game "
   ]
  },
  {
   "cell_type": "markdown",
   "metadata": {},
   "source": [
    "In this game, there are 21 sticks lying in a pile. Players take turns taking 1, 2, or 3 sticks. The last person to take a stick wins. For example:\n",
    "\n",
    "21 sticks in the pile\n",
    "\n",
    "Bob takes 2  -->  19 sticks left\n",
    "Jim takes 3  -->  16 sticks\n",
    "Bob takes 3  -->  13 sticks\n",
    "Jim takes 1  -->  12 sticks\n",
    "Bob takes 2  -->  10 sticks\n",
    "Jim takes 2  -->   8 sticks\n",
    "Bob takes 3  -->   5 sticks\n",
    "Jim takes 3  -->   2 sticks\n",
    "Bob takes 2  -->  Bob wins!\n",
    "\n",
    "Task:  \n",
    "Create a 21 Matchsticks game for 2 users, A and B (Robot and user respectively). Users can pick matchsticks not more than 3 at a time. The one who picks the last matchstick wins."
   ]
  },
  {
   "cell_type": "code",
   "execution_count": 8,
   "metadata": {},
   "outputs": [
    {
     "name": "stdout",
     "output_type": "stream",
     "text": [
      "Total Stick = 21\n",
      "Robot takes 1 ---> 20 stick left\n",
      "Take 1, 2, or 3 sticks :1\n",
      "Player takes 1 ---> 19 stick left\n",
      "Robot takes 1 ---> 18 stick left\n",
      "Take 1, 2, or 3 sticks :1\n",
      "Player takes 1 ---> 17 stick left\n",
      "Robot takes 3 ---> 14 stick left\n",
      "Take 1, 2, or 3 sticks :3\n",
      "Player takes 3 ---> 11 stick left\n",
      "Robot takes 1 ---> 10 stick left\n",
      "Take 1, 2, or 3 sticks :2\n",
      "Player takes 2 ---> 8 stick left\n",
      "Robot takes 3 ---> 5 stick left\n",
      "Take 1, 2, or 3 sticks :1\n",
      "Player takes 1 ---> 4 stick left\n",
      "Robot takes 2 ---> 2 stick left\n",
      "Take 1, 2, or 3 sticks :1\n",
      "Player takes 1 ---> 1 stick left\n",
      "Robot takes 1 ---> 0 stick left\n",
      "Robot Win\n"
     ]
    }
   ],
   "source": [
    "import random\n",
    "a=21\n",
    "list1=[]\n",
    "print(\"Total Stick =\", 21)\n",
    "while a>0:\n",
    "    rob=random.randint(1,3)\n",
    "    a=a-rob\n",
    "    list1.append(a)\n",
    "    \n",
    "    if (a<=0):\n",
    "        print('Robot takes',list1[-2], \"--->\",0,\"stick left\")\n",
    "        print(\"Robot Win\")\n",
    "    else:\n",
    "        print('Robot takes',rob, \"--->\",a,\"stick left\")\n",
    "        play=int(input(\"Take 1, 2, or 3 sticks :\"))\n",
    "        a=a-play\n",
    "        list1.append(a)\n",
    "        \n",
    "        if (a<=0):\n",
    "            print('Player takes',list1[-2], \"--->\",0,\"stick left\")\n",
    "            print(\"Player Win\")\n",
    "        else:\n",
    "            print('Player takes',play, \"--->\",a,\"stick left\")\n",
    "            continue"
   ]
  },
  {
   "cell_type": "code",
   "execution_count": null,
   "metadata": {},
   "outputs": [],
   "source": []
  }
 ],
 "metadata": {
  "kernelspec": {
   "display_name": "Python 3",
   "language": "python",
   "name": "python3"
  },
  "language_info": {
   "codemirror_mode": {
    "name": "ipython",
    "version": 3
   },
   "file_extension": ".py",
   "mimetype": "text/x-python",
   "name": "python",
   "nbconvert_exporter": "python",
   "pygments_lexer": "ipython3",
   "version": "3.7.3"
  }
 },
 "nbformat": 4,
 "nbformat_minor": 2
}
